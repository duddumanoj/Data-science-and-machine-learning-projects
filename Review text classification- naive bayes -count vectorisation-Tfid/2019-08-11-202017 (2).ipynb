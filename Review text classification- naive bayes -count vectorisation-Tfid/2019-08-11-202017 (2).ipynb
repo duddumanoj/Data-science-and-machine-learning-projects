{
 "cells": [
  {
   "cell_type": "code",
   "execution_count": 4,
   "metadata": {
    "collapsed": false
   },
   "outputs": [
   ],
   "source": [
    "import numpy as np\n",
    "\n",
    "import pandas as pd\n",
    "from sklearn.feature_extraction.text import CountVectorizer\n",
    "#from sklearn.cross_validation import train_test_split\n",
    "from sklearn.model_selection import train_test_split\n",
    "from sklearn.naive_bayes import MultinomialNB\n",
    "from sklearn.feature_extraction.text import TfidfVectorizer\n"
   ]
  },
  {
   "cell_type": "code",
   "execution_count": 4,
   "metadata": {
    "collapsed": false
   },
   "outputs": [
   ],
   "source": [
    "#imported required packages for machine learning using python"
   ]
  },
  {
   "cell_type": "code",
   "execution_count": 17,
   "metadata": {
    "collapsed": false
   },
   "outputs": [
   ],
   "source": [
    "df=pd.read_csv(\"train.csv\")\n",
    "df1=pd.read_csv(\"test.csv\")"
   ]
  },
  {
   "cell_type": "code",
   "execution_count": 6,
   "metadata": {
    "collapsed": false
   },
   "outputs": [
   ],
   "source": [
    "#reading train and test csv files using pandas"
   ]
  },
  {
   "cell_type": "code",
   "execution_count": 9,
   "metadata": {
    "collapsed": false
   },
   "outputs": [
   ],
   "source": [
    "#converting output labels in string format to numbers for learning"
   ]
  },
  {
   "cell_type": "code",
   "execution_count": 8,
   "metadata": {
    "collapsed": false
   },
   "outputs": [
   ],
   "source": [
    "df.loc[df[\"topic\"]==\"Allergic\",\"topic\"]=1\n",
    "df.loc[df[\"topic\"]==\"Bad Taste/Flavor\",\"topic\"]=0\n",
    "df.loc[df[\"topic\"]==\"Smells Bad\",\"topic\"]=2\n",
    "df.loc[df[\"topic\"]==\"Packaging\",\"topic\"]=3\n",
    "df.loc[df[\"topic\"]==\"Not Effective\",\"topic\"]=4\n",
    "df.loc[df[\"topic\"]==\"Pricing\",\"topic\"]=15\n",
    "df.loc[df[\"topic\"]==\"False Advertisement\",\"topic\"]=16\n",
    "df.loc[df[\"topic\"]==\"Inferior to competitors\",\"topic\"]=17\n",
    "df.loc[df[\"topic\"]==\"Didn't Like\",\"topic\"]=18\n",
    "df.loc[df[\"topic\"]==\"Ingredients\",\"topic\"]=5\n",
    "df.loc[df[\"topic\"]==\"Customer Service\",\"topic\"]=6\n",
    "df.loc[df[\"topic\"]==\"Texture\",\"topic\"]=7\n",
    "df.loc[df[\"topic\"]==\"Too Sweet\",\"topic\"]=8\n",
    "df.loc[df[\"topic\"]==\"Quality/Contaminated\",\"topic\"]=9\n",
    "df.loc[df[\"topic\"]==\"Too big to swallow\",\"topic\"]=10\n",
    "df.loc[df[\"topic\"]==\"Shipment and delivery\",\"topic\"]=11\n",
    "df.loc[df[\"topic\"]==\"Wrong Product received\",\"topic\"]=12\n",
    "df.loc[df[\"topic\"]==\"Expiry\",\"topic\"]=13\n",
    "df.loc[df[\"topic\"]==\"Color and texture\",\"topic\"]=14\n",
    "df.loc[df[\"topic\"]==\"Customer Issues\",\"topic\"]=19\n",
    "df.loc[df[\"topic\"]==\"Hard to Chew\",\"topic\"]=20"
   ]
  },
  {
   "cell_type": "code",
   "execution_count": 10,
   "metadata": {
    "collapsed": false
   },
   "outputs": [
   ],
   "source": [
    "#converting output labels which is of type object into int"
   ]
  },
  {
   "cell_type": "code",
   "execution_count": 11,
   "metadata": {
    "collapsed": false
   },
   "outputs": [
   ],
   "source": [
    "df=df.infer_objects()"
   ]
  },
  {
   "cell_type": "code",
   "execution_count": 13,
   "metadata": {
    "collapsed": false
   },
   "outputs": [
   ],
   "source": [
    "#previously i have merged columns review text and review title into one column for text classification purpose,so"
   ]
  },
  {
   "cell_type": "code",
   "execution_count": 16,
   "metadata": {
    "collapsed": false
   },
   "outputs": [
   ],
   "source": [
    "df1_x=df1[\"Review Text\"]\n",
    "df_x=df[\"Review Text\"]"
   ]
  },
  {
   "cell_type": "code",
   "execution_count": 15,
   "metadata": {
    "collapsed": false
   },
   "outputs": [
   ],
   "source": [
    "#here df_x represents training features,df1_x represents testing features,df_y represents output of training set,df1_y represents  output of testing set"
   ]
  },
  {
   "cell_type": "code",
   "execution_count": 17,
   "metadata": {
    "collapsed": false
   },
   "outputs": [
   ],
   "source": [
    "#i haven been using naive bayes algorithm for building the model(countvectorization technique)"
   ]
  },
  {
   "cell_type": "code",
   "execution_count": 18,
   "metadata": {
    "collapsed": false
   },
   "outputs": [
   ],
   "source": [
    "cv=CountVectorizer()"
   ]
  },
  {
   "cell_type": "code",
   "execution_count": 19,
   "metadata": {
    "collapsed": false
   },
   "outputs": [
   ],
   "source": [
    "#we have to transform text data into vectors,so"
   ]
  },
  {
   "cell_type": "code",
   "execution_count": 20,
   "metadata": {
    "collapsed": false
   },
   "outputs": [
   ],
   "source": [
    "a=cv.fit_transform(df_x)"
   ]
  },
  {
   "cell_type": "code",
   "execution_count": 23,
   "metadata": {
    "collapsed": false
   },
   "outputs": [
   ],
   "source": [
    "c1=cv.transform(df1_x)   #here for training data no need to fit,only needs to transformed into vectors"
   ]
  },
  {
   "cell_type": "code",
   "execution_count": 24,
   "metadata": {
    "collapsed": false
   },
   "outputs": [
   ],
   "source": [
    "mnb=MultinomialNB()\n"
   ]
  },
  {
   "cell_type": "code",
   "execution_count": 25,
   "metadata": {
    "collapsed": false
   },
   "outputs": [
   ],
   "source": [
    "df_y=df[\"topic\"]"
   ]
  },
  {
   "cell_type": "code",
   "execution_count": 26,
   "metadata": {
    "collapsed": false
   },
   "outputs": [
    {
     "data": {
      "text/plain": [
       "MultinomialNB(alpha=1.0, class_prior=None, fit_prior=True)"
      ]
     },
     "execution_count": 26,
     "metadata": {
     },
     "output_type": "execute_result"
    }
   ],
   "source": [
    "mnb.fit(a,df_y)"
   ]
  },
  {
   "cell_type": "code",
   "execution_count": 27,
   "metadata": {
    "collapsed": false
   },
   "outputs": [
   ],
   "source": [
    "#model build complete"
   ]
  },
  {
   "cell_type": "code",
   "execution_count": 28,
   "metadata": {
    "collapsed": false
   },
   "outputs": [
   ],
   "source": [
    "#now its time to predict the testing data"
   ]
  },
  {
   "cell_type": "code",
   "execution_count": 29,
   "metadata": {
    "collapsed": false
   },
   "outputs": [
   ],
   "source": [
    "pri=mnb.predict(c1)"
   ]
  },
  {
   "cell_type": "code",
   "execution_count": 30,
   "metadata": {
    "collapsed": false
   },
   "outputs": [
   ],
   "source": [
    "#now the predicted values are written to the file pri.csv"
   ]
  },
  {
   "cell_type": "code",
   "execution_count": 31,
   "metadata": {
    "collapsed": false
   },
   "outputs": [
   ],
   "source": [
    "pri=pd.DataFrame(pri,columns=[\"pri\"]).to_csv('pri.csv')"
   ]
  },
  {
   "cell_type": "code",
   "execution_count": 9,
   "metadata": {
    "collapsed": false
   },
   "outputs": [
    {
     "data": {
      "text/html": [
       "<div>\n",
       "<style scoped>\n",
       "    .dataframe tbody tr th:only-of-type {\n",
       "        vertical-align: middle;\n",
       "    }\n",
       "\n",
       "    .dataframe tbody tr th {\n",
       "        vertical-align: top;\n",
       "    }\n",
       "\n",
       "    .dataframe thead th {\n",
       "        text-align: right;\n",
       "    }\n",
       "</style>\n",
       "<table border=\"1\" class=\"dataframe\">\n",
       "  <thead>\n",
       "    <tr style=\"text-align: right;\">\n",
       "      <th></th>\n",
       "      <th>Review Text</th>\n",
       "      <th>Review Title</th>\n",
       "      <th>topic</th>\n",
       "    </tr>\n",
       "  </thead>\n",
       "  <tbody>\n",
       "    <tr>\n",
       "      <th>count</th>\n",
       "      <td>5959</td>\n",
       "      <td>5959</td>\n",
       "      <td>5959</td>\n",
       "    </tr>\n",
       "    <tr>\n",
       "      <th>unique</th>\n",
       "      <td>4196</td>\n",
       "      <td>3727</td>\n",
       "      <td>21</td>\n",
       "    </tr>\n",
       "    <tr>\n",
       "      <th>top</th>\n",
       "      <td>I usually buy my protein powder from GNC but I...</td>\n",
       "      <td>Gross</td>\n",
       "      <td>Bad Taste/Flavor</td>\n",
       "    </tr>\n",
       "    <tr>\n",
       "      <th>freq</th>\n",
       "      <td>6</td>\n",
       "      <td>19</td>\n",
       "      <td>1194</td>\n",
       "    </tr>\n",
       "  </tbody>\n",
       "</table>\n",
       "</div>"
      ],
      "text/plain": [
       "                                              Review Text Review Title  \\\n",
       "count                                                5959         5959   \n",
       "unique                                               4196         3727   \n",
       "top     I usually buy my protein powder from GNC but I...        Gross   \n",
       "freq                                                    6           19   \n",
       "\n",
       "                   topic  \n",
       "count               5959  \n",
       "unique                21  \n",
       "top     Bad Taste/Flavor  \n",
       "freq                1194  "
      ]
     },
     "execution_count": 9,
     "metadata": {
     },
     "output_type": "execute_result"
    }
   ],
   "source": [
    "df.describe()"
   ]
  },
  {
   "cell_type": "code",
   "execution_count": 10,
   "metadata": {
    "collapsed": false
   },
   "outputs": [
   ],
   "source": [
    "#from above we understand that the complaints about bad taste/flavor are more,so retailers need to concentrate more on reducing bad taste flavor in the food for the customers."
   ]
  },
  {
   "cell_type": "code",
   "execution_count": 12,
   "metadata": {
    "collapsed": false
   },
   "outputs": [
   ],
   "source": [
    "import seaborn as sns"
   ]
  },
  {
   "cell_type": "code",
   "execution_count": 22,
   "metadata": {
    "collapsed": false
   },
   "outputs": [
    {
     "data": {
      "text/plain": [
       "Review Text     !!!!!!--->>300 mg of sodium per 1 scoop servin...\n",
       "Review Title                              !Good energy, bad taste\n",
       "topic                                                    Allergic\n",
       "dtype: object"
      ]
     },
     "execution_count": 22,
     "metadata": {
     },
     "output_type": "execute_result"
    }
   ],
   "source": [
    "df.min()"
   ]
  },
  {
   "cell_type": "code",
   "execution_count": 23,
   "metadata": {
    "collapsed": false
   },
   "outputs": [
    {
     "data": {
      "text/plain": [
       "Review Text     “ Natural lemon flavor” = vicious heartburn. S...\n",
       "Review Title                                                🙋🏽‍♀️\n",
       "topic                                      Wrong Product received\n",
       "dtype: object"
      ]
     },
     "execution_count": 23,
     "metadata": {
     },
     "output_type": "execute_result"
    }
   ],
   "source": [
    "df.max()"
   ]
  },
  {
   "cell_type": "code",
   "execution_count": 31,
   "metadata": {
    "collapsed": false
   },
   "outputs": [
    {
     "name": "stdout",
     "output_type": "stream",
     "text": [
      "                                                                                                                Review Title\n",
      "topic                  Review Text                                                                                          \n",
      "Allergic               \"Is it really true that \"Garden of Life sold ou...  SOLD OUT TO NESTLE AND REFUSES TO CORRECT THE ...\n",
      "                       3 of us in our family have been using this prod...                     Works, but beware of allergies\n",
      "                       About 2 weeks after being on these pills, my 6 ...  PARENTS BEWARE!!  Horrible Stomach Pain in 6 y...\n",
      "                       Absolutely destroyed my stomach. Horrible stoma...                                         Not For Me\n",
      "                       According to my own research, this product has ...                                   Has side effects\n",
      "                       Advertised with “no artificial sweeteners” on h...                             Artificially sweetened\n",
      "                       After getting sick from a ruptured capsule of K...                 WONDERFUL PRODUCT ! (NOT ANYMORE!)\n",
      "                       After going through my brands of prenatal vitam...  Better tasting that most prenatal vitamins but...\n",
      "                       After using it twice I was convinced it wasn't ...                               Had to throw it away\n",
      "                       After witnessing the excruciating stomach pain ...                                Severe stomach pain\n",
      "                       All I can say is wow. I’ve been a long time suf...                                      Sick as a dog\n",
      "                       All I got from this is major constipation. I us...                                       Constipation\n",
      "                       All of the research shows that getting adequate...                       Restorative Muscle Building?\n",
      "                       Allergic product! I’ve never had the allergy!                                                   Rash!\n",
      "                       Allergic to flowers or anything else that smell...  Not having anything smell like flowers when I'...\n",
      "                       Although some of the advertised ingredients are...      Upset my stomach and questionable ingredients\n",
      "                       Although the packaging says \"unscented\", it has...                     NOT unscented, has a fragrance\n",
      "                       As a senior taking a med for elevated blood pre...               Increased Energy But Couldn't Sleep!\n",
      "                       As usual, the general quality of presentation w...                 Helps some people. Didn't help me.\n",
      "                       At first it was pretty easy to take. But with i...  Hard to swallow and has a very fishy smell/taste.\n",
      "                       At first we loved these diapers and it was a gr...        Something changed and now they’re terrible.\n",
      "                       Bad allergic reaction                                                           Bad allergic reaction\n",
      "                       Be aware, I never believed this product couldn'...        Created violent food posioning...3 times...\n",
      "                       Be careful of these, they may cause a headache ...                                         HeadAche,,\n",
      "                       Be careful, it contains coumarin, and can damag...                            Toxic kind of cinnamon.\n",
      "                       Be very cautious in taking this supplement. I h...       Be careful, and read up on all side effects!\n",
      "                       Became very ill three years ago and nearly kick...                                 Comme ci, comme ça\n",
      "                       Been on it 1 week. Knew something was wrong. Ma...                                       Made me sick\n",
      "                       Been taking gummy prenatals for a couple years ...                 Should be a weight loss supplement\n",
      "                       Beware if you have grain allergies as this prod...                                Contains rice flour\n",
      "...                                                                                                                      ...\n",
      "Wrong Product received The product description says 35 days 70 gummies...       Wrong product description and poor shipping.\n",
      "                       The product in the picture is not the same as w...                          Wrong product in pictures\n",
      "                       The wrong item was sent to me, what I received ...                  I want the right item sent to me.\n",
      "                       There is no flavor as it mentioned on the produ...                                   Very Low Quality\n",
      "                       They sent me a wrong product after for waiting ...                                           Bad deal\n",
      "                       They sent me the wrong item and I can’t even re...   Do not order : sent wrong item and cannot return\n",
      "                       They sent the wrong item twice now. I will not ...                                    Wrong item sent\n",
      "                       This company sent me the wrong flavor which is ...        Sent wrong items/flavors-really bad service\n",
      "                       This is the item that  ordered, but vitamin D3 ...                                    wrong item sent\n",
      "                       This is very good stuff. Gave 1 star due to the...             Sent the wrong product twice in a row.\n",
      "                       This item is not the actual item ordered. I thi...                            Not the correct product\n",
      "                       This listing is incorrect as I ordered It/retur...                   Wrong item sent vs what’s listed\n",
      "                       This seller sent wrong product, wouldn’t refund...                         Don’t buy from this seller\n",
      "                       This was to be a birthday gift I did not get wh...                         Did not get what I ordered\n",
      "                       This what I received, not what I ordered                                                 Latest order\n",
      "                       Two times in a row the wrong product was sent. ...                      Cannot Send the Right Product\n",
      "                       VERY DISAPPOINTED!!! THE LAVENDER WAS NOT THE N...                               WRONG ITEM DELIVERED\n",
      "                       WRONG ITEM SENT!!!! I ordered green tea and rec...                                    WRONG ITEM SENT\n",
      "                       Was not the carbonated cans like I was expected...                                 Not what I ordered\n",
      "                       Was sent the wrong item, not eligible for a ret...                Company Sent Wrong Pills... THANKS!\n",
      "                       Was sent wrong item I received Buckleys Cough M...                                           Receivex\n",
      "                       Was shipped potassium gluconate instead, and th...                                         wrong item\n",
      "                       When I've ordered this product before, I got wh...                                 Not what I ordered\n",
      "                       Why did you send wrong product for me? I got tw...                                      Wrong product\n",
      "                       Wrong item was sent...so, I wasn't very satisfi...                                    Wasn't received\n",
      "                       Wrong items                                                                               Wrong items\n",
      "                       You did not send me the correct item!  You sent...                             Need the correct item.\n",
      "                       did not get what I ordered, I ordered the FAST ...                                      WRONG PRODUCT\n",
      "                       hello , The second time sent the wrong item for...                                         wrong item\n",
      "                       received a single bottle instead of the 3-pack                           good product, wrong quantity\n",
      "\n",
      "[5924 rows x 1 columns]\n"
     ]
    }
   ],
   "source": [
    "g=df.groupby(['topic',\"Review Text\"])\n",
    "print(g.first())"
   ]
  },
  {
   "cell_type": "code",
   "execution_count": 0,
   "metadata": {
    "collapsed": false
   },
   "outputs": [
   ],
   "source": [
    "#ANALYSIS BY TOPIC:-this analysis above gives the retailers with the information what are the reasons for negativity and where to improve"
   ]
  },
  {
   "cell_type": "code",
   "execution_count": 30,
   "metadata": {
    "collapsed": false
   },
   "outputs": [
    {
     "name": "stdout",
     "output_type": "stream",
     "text": [
      "                                                               Review Text  \\\n",
      "topic                                                                        \n",
      "Allergic                        Gave me an allergic reaction on my face :(   \n",
      "Bad Taste/Flavor                                                   No good   \n",
      "Color and texture        These don't compare to the name brand wipes. F...   \n",
      "Customer Issues          DO NOT USE THIS SELLER! Tried to cancel order ...   \n",
      "Customer Service         I have bought these bags and  immediately open...   \n",
      "Didn't Like              I do not like the taste, so Idk if it works. I...   \n",
      "Expiry                   I was having neck surgery and thought I would ...   \n",
      "False Advertisement      Misleading information on packaging. It has on...   \n",
      "Hard to Chew                                          These were not soft.   \n",
      "Inferior to competitors  I haven't had any issues with leaks, but the q...   \n",
      "Ingredients              By my lights, these are a big disappointment. ...   \n",
      "Not Effective            Did nothing for me, didn't help lost even with...   \n",
      "Packaging                Doesn't smell anything like rosehip oil. Smell...   \n",
      "Pricing                                             Found cheaper at store   \n",
      "Quality/Contaminated     These don't compare to the name brand wipes. F...   \n",
      "Shipment and delivery    Did nothing for me, didn't help lost even with...   \n",
      "Smells Bad               These smelled horrible! As soon as I opened th...   \n",
      "Texture                  These don't compare to the name brand wipes. F...   \n",
      "Too Sweet                By my lights, these are a big disappointment. ...   \n",
      "Too big to swallow       These are EXTREMELY hard to swallow. The pills...   \n",
      "Wrong Product received   Ordered the Ripped version and got regular, or...   \n",
      "\n",
      "                                                              Review Title  \n",
      "topic                                                                       \n",
      "Allergic                                                  Do not recommend  \n",
      "Bad Taste/Flavor                                           Tastes horrible  \n",
      "Color and texture                                  Can't tackle big messes  \n",
      "Customer Issues                                    DO NOT USE THIS VENDOR!  \n",
      "Customer Service         TRASH!!! Do not buy these bags it’s a waist of...  \n",
      "Didn't Like                                                   Weird taste.  \n",
      "Expiry                                                     Expiration Date  \n",
      "False Advertisement                                 Misleading information  \n",
      "Hard to Chew                                                        Crusty  \n",
      "Inferior to competitors                   Not as good as the leading brand  \n",
      "Ingredients              Too much sugar in these, and too many calories...  \n",
      "Not Effective                                                      Useless  \n",
      "Packaging                                       Horrid packaging and smell  \n",
      "Pricing                                                      Too expensive  \n",
      "Quality/Contaminated                               Can't tackle big messes  \n",
      "Shipment and delivery                                              Useless  \n",
      "Smells Bad                                            Smelled like ammonia  \n",
      "Texture                                            Can't tackle big messes  \n",
      "Too Sweet                Too much sugar in these, and too many calories...  \n",
      "Too big to swallow                                          CHOKING HAZARD  \n",
      "Wrong Product received                                          Wrong item  \n"
     ]
    }
   ],
   "source": [
    "g=df.groupby(['topic'])\n",
    "print(g.first())"
   ]
  },
  {
   "cell_type": "code",
   "execution_count": 0,
   "metadata": {
    "collapsed": false
   },
   "outputs": [
   ],
   "source": [
   ]
  }
 ],
 "metadata": {
  "kernelspec": {
   "display_name": "Python 3 (system-wide)",
   "language": "python",
   "metadata": {
    "cocalc": {
     "description": "Python 3 programming language",
     "priority": 100,
     "url": "https://www.python.org/"
    }
   },
   "name": "python3"
  },
  "language_info": {
   "codemirror_mode": {
    "name": "ipython",
    "version": 3
   },
   "file_extension": ".py",
   "mimetype": "text/x-python",
   "name": "python",
   "nbconvert_exporter": "python",
   "pygments_lexer": "ipython3",
   "version": "3.6.8"
  }
 },
 "nbformat": 4,
 "nbformat_minor": 0
}